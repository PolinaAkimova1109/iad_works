{
  "nbformat": 4,
  "nbformat_minor": 0,
  "metadata": {
    "colab": {
      "name": "Untitled1.ipynb",
      "provenance": [],
      "machine_shape": "hm"
    },
    "kernelspec": {
      "name": "python3",
      "display_name": "Python 3"
    },
    "accelerator": "GPU"
  },
  "cells": [
    {
      "cell_type": "code",
      "metadata": {
        "id": "4JwQC17RzMmS",
        "colab_type": "code",
        "colab": {}
      },
      "source": [
        "import pandas as pd"
      ],
      "execution_count": 0,
      "outputs": []
    },
    {
      "cell_type": "code",
      "metadata": {
        "id": "X2jS6XXahWHU",
        "colab_type": "code",
        "colab": {}
      },
      "source": [
        "!pip install -U -q kaggle\n",
        "!mkdir -p ~/.kaggle"
      ],
      "execution_count": 0,
      "outputs": []
    },
    {
      "cell_type": "code",
      "metadata": {
        "id": "wmVveAbThkF4",
        "colab_type": "code",
        "outputId": "44404ed2-bebe-492b-b8be-5f2eca132b32",
        "colab": {
          "resources": {
            "http://localhost:8080/nbextensions/google.colab/files.js": {
              "data": "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",
              "ok": true,
              "headers": [
                [
                  "content-type",
                  "application/javascript"
                ]
              ],
              "status": 200,
              "status_text": "OK"
            }
          },
          "base_uri": "https://localhost:8080/",
          "height": 100
        }
      },
      "source": [
        "from google.colab import files\n",
        "files.upload()"
      ],
      "execution_count": 0,
      "outputs": [
        {
          "output_type": "display_data",
          "data": {
            "text/html": [
              "\n",
              "     <input type=\"file\" id=\"files-8062522c-8ea7-42ac-a5dd-c267b348ccfd\" name=\"files[]\" multiple disabled />\n",
              "     <output id=\"result-8062522c-8ea7-42ac-a5dd-c267b348ccfd\">\n",
              "      Upload widget is only available when the cell has been executed in the\n",
              "      current browser session. Please rerun this cell to enable.\n",
              "      </output>\n",
              "      <script src=\"/nbextensions/google.colab/files.js\"></script> "
            ],
            "text/plain": [
              "<IPython.core.display.HTML object>"
            ]
          },
          "metadata": {
            "tags": []
          }
        },
        {
          "output_type": "stream",
          "text": [
            "Saving kaggle.json to kaggle.json\n"
          ],
          "name": "stdout"
        },
        {
          "output_type": "execute_result",
          "data": {
            "text/plain": [
              "{'kaggle.json': b'{\"username\":\"pakimova\",\"key\":\"512ce18b825bf0c864c260c82afbb96e\"}'}"
            ]
          },
          "metadata": {
            "tags": []
          },
          "execution_count": 4
        }
      ]
    },
    {
      "cell_type": "code",
      "metadata": {
        "id": "w_f3MJwThkk-",
        "colab_type": "code",
        "colab": {}
      },
      "source": [
        "!cp kaggle.json ~/.kaggle/"
      ],
      "execution_count": 0,
      "outputs": []
    },
    {
      "cell_type": "code",
      "metadata": {
        "id": "ZxTb_o4Jhuga",
        "colab_type": "code",
        "outputId": "501fbf12-06db-4c3c-88c6-2ff4cc6fe6b6",
        "colab": {
          "base_uri": "https://localhost:8080/",
          "height": 208
        }
      },
      "source": [
        "!kaggle competitions download -c texts-classification-iad-hse-intro-2020"
      ],
      "execution_count": 0,
      "outputs": [
        {
          "output_type": "stream",
          "text": [
            "Warning: Your Kaggle API key is readable by other users on this system! To fix this, you can run 'chmod 600 /root/.kaggle/kaggle.json'\n",
            "Warning: Looks like you're using an outdated API Version, please consider updating (server 1.5.6 / client 1.5.4)\n",
            "Downloading sample_submission.csv.zip to /content\n",
            " 84% 6.00M/7.17M [00:00<00:00, 61.2MB/s]\n",
            "100% 7.17M/7.17M [00:00<00:00, 66.3MB/s]\n",
            "Downloading train.csv.zip to /content\n",
            " 99% 836M/843M [00:21<00:00, 80.8MB/s]\n",
            "100% 843M/843M [00:21<00:00, 41.0MB/s]\n",
            "Downloading test.csv.zip to /content\n",
            " 99% 281M/284M [00:06<00:00, 24.6MB/s]\n",
            "100% 284M/284M [00:06<00:00, 44.3MB/s]\n"
          ],
          "name": "stdout"
        }
      ]
    },
    {
      "cell_type": "code",
      "metadata": {
        "id": "cvRhKahWh06w",
        "colab_type": "code",
        "colab": {}
      },
      "source": [
        "Train = pd.read_csv('/content/train.csv.zip', compression='zip', header=0, sep=',', quotechar='\"')"
      ],
      "execution_count": 0,
      "outputs": []
    },
    {
      "cell_type": "code",
      "metadata": {
        "id": "oKPBAoL8i4HV",
        "colab_type": "code",
        "colab": {}
      },
      "source": [
        "Test = pd.read_csv('/content/test.csv.zip', compression='zip', header=0, sep=',', quotechar='\"')"
      ],
      "execution_count": 0,
      "outputs": []
    },
    {
      "cell_type": "code",
      "metadata": {
        "id": "EA6wJpOQi_S-",
        "colab_type": "code",
        "colab": {}
      },
      "source": [
        "Train.fillna('', inplace=True)"
      ],
      "execution_count": 0,
      "outputs": []
    },
    {
      "cell_type": "code",
      "metadata": {
        "id": "W8h6tJDZkKYo",
        "colab_type": "code",
        "colab": {}
      },
      "source": [
        "Test.fillna('', inplace=True)"
      ],
      "execution_count": 0,
      "outputs": []
    },
    {
      "cell_type": "code",
      "metadata": {
        "id": "OEHLaCAakRap",
        "colab_type": "code",
        "colab": {}
      },
      "source": [
        "Train['title&description'] = Train['title'].str[:] + ' ' + Train['description'].str[:]"
      ],
      "execution_count": 0,
      "outputs": []
    },
    {
      "cell_type": "code",
      "metadata": {
        "id": "UriATCbF0K5L",
        "colab_type": "code",
        "outputId": "91fdc9ef-4a20-45a7-eb5b-7cf64def7147",
        "colab": {
          "base_uri": "https://localhost:8080/",
          "height": 69
        }
      },
      "source": [
        "import nltk\n",
        "nltk.download('punkt')"
      ],
      "execution_count": 0,
      "outputs": [
        {
          "output_type": "stream",
          "text": [
            "[nltk_data] Downloading package punkt to /root/nltk_data...\n",
            "[nltk_data]   Unzipping tokenizers/punkt.zip.\n"
          ],
          "name": "stdout"
        },
        {
          "output_type": "execute_result",
          "data": {
            "text/plain": [
              "True"
            ]
          },
          "metadata": {
            "tags": []
          },
          "execution_count": 20
        }
      ]
    },
    {
      "cell_type": "code",
      "metadata": {
        "id": "sfYUdcSrz3CC",
        "colab_type": "code",
        "colab": {}
      },
      "source": [
        "from nltk.tokenize import word_tokenize \n",
        "\n",
        "def preprocess(text: str) -> str:\n",
        "    '''\n",
        "    Функция токенизации. запускается 5 раз для каждого датасета.\n",
        "    Сплит по '.', '/', '-', токенизация и удаление небуквенных токенов.\n",
        "    '''\n",
        "    # return ' '.join([s.strip() for s in text.split('.')])\n",
        "    # return ' '.join([s.strip() for s in text.split('/')])\n",
        "    # return ' '.join([s.strip() for s in text.split('-')])\n",
        "    # return ' '.join(word_tokenize(text))\n",
        "    return ' '.join([s.strip().lower() for s in text.split() if s.strip().isalpha()])"
      ],
      "execution_count": 0,
      "outputs": []
    },
    {
      "cell_type": "code",
      "metadata": {
        "id": "RnStTeVE0hIp",
        "colab_type": "code",
        "colab": {}
      },
      "source": [
        "X_train_t = Train['title&description'].to_numpy()"
      ],
      "execution_count": 0,
      "outputs": []
    },
    {
      "cell_type": "code",
      "metadata": {
        "id": "u6oxHlyH2m6h",
        "colab_type": "code",
        "colab": {}
      },
      "source": [
        "Y_train_t = Train['Category'].to_numpy()"
      ],
      "execution_count": 0,
      "outputs": []
    },
    {
      "cell_type": "code",
      "metadata": {
        "id": "Lz17r9eK8kdG",
        "colab_type": "code",
        "colab": {}
      },
      "source": [
        "del Train"
      ],
      "execution_count": 0,
      "outputs": []
    },
    {
      "cell_type": "code",
      "metadata": {
        "id": "PJ9vQSNP0NaH",
        "colab_type": "code",
        "outputId": "4fa59180-9795-44b8-a25b-578a083c51ec",
        "colab": {
          "base_uri": "https://localhost:8080/",
          "height": 228
        }
      },
      "source": [
        "for i in range(len(X_train_t)):\n",
        "    X_train_t[i] = preprocess(X_train_t[i])\n",
        "X_train_t[:10]"
      ],
      "execution_count": 0,
      "outputs": [
        {
          "output_type": "execute_result",
          "data": {
            "text/plain": [
              "array(['эбу renault nissan dci delphi год комплект эбу мозги компьютер мотора двигателя коммутатор электронный блок управления двигателем компьютер мотора для рено kangoo канго кангу меган сценик laguna лагуна clio клио nissan micra ниссан микра и другие рено ниссан дизель с топливной аппаратурой делфи б у оригинал отличное состояние проверенные с гарантией на все запчасти предоставляется гарантия возможна установка более подробно в разделе о компании мы дорожим своей репутацией и торгуем только легальными контрактными запчастями на все детали в наличии таможенные документы все запчасти от автомобилей без пробега по россии отправляем в другие регионы таможенного союза транспортной компанией или наложным платежом',\n",
              "       'утюг утп ватт ссср год продам фото утюг утп ватт ссср год руб в рабочем состоянии фото утюг ватт ссср руб в рабочем состоянии фото утюг ватт ссср руб в рабочем состоянии фото утюг ватт ссср руб в рабочем состоянии фото утюг delta dl руб в рабочем состоянии ус личная встреча или отправлю по почте фото утюг ватт ссср руб в рабочем состоянии с личная встреча или отправлю по почте',\n",
              "       'возвму машину с выкупом возьму машину в аренду с последующим выкупом недорогую у кого есть возможность задать машину пишите сюда звонок могу не услышать',\n",
              "       'полусапожки полусапожки в отличном состоянии один раз одеваны натуральный мех велюр кожа',\n",
              "       'босоножки кожаные кожаные натур босоножки karlo pasolini рр б у раза в идеальном состоянии',\n",
              "       'комбинезон одет раз',\n",
              "       'сандали котофей котофей фирма на первые шаги размер',\n",
              "       'свитер продаю свитер в идеально состоянии фирмы benetton размер',\n",
              "       'жакет женский жакет женский новый с биркой торг уместен просьба звонить только вечером смс в любое время',\n",
              "       'стойка передняя правая opel corsa c стойка амортизатора передняя правая на opel corsa c в сборе с пружиной и опорным подшипником бу bilstein артикул даем на все гарантию дней с даты получения запчасти забрать запчасть самовывозом можно с до без выходных предварительно звоните отправляем запчасти в другие города по предварительной оплате на карту сбербанка или любым другим способом доставка до тк сдэк байкал сервис энергия пэк деловые линии руб пишите вопросы через чат авито отвечаем быстро звонить можно с до ежедневно есть свой автосервис'],\n",
              "      dtype=object)"
            ]
          },
          "metadata": {
            "tags": []
          },
          "execution_count": 23
        }
      ]
    },
    {
      "cell_type": "code",
      "metadata": {
        "id": "g6pG7v1G073R",
        "colab_type": "code",
        "outputId": "5a1f3e42-d5a4-4bfd-c441-83c72ec5581d",
        "colab": {
          "resources": {
            "http://localhost:8080/nbextensions/google.colab/files.js": {
              "data": "Ly8gQ29weXJpZ2h0IDIwMTcgR29vZ2xlIExMQwovLwovLyBMaWNlbnNlZCB1bmRlciB0aGUgQXBhY2hlIExpY2Vuc2UsIFZlcnNpb24gMi4wICh0aGUgIkxpY2Vuc2UiKTsKLy8geW91IG1heSBub3QgdXNlIHRoaXMgZmlsZSBleGNlcHQgaW4gY29tcGxpYW5jZSB3aXRoIHRoZSBMaWNlbnNlLgovLyBZb3UgbWF5IG9idGFpbiBhIGNvcHkgb2YgdGhlIExpY2Vuc2UgYXQKLy8KLy8gICAgICBodHRwOi8vd3d3LmFwYWNoZS5vcmcvbGljZW5zZXMvTElDRU5TRS0yLjAKLy8KLy8gVW5sZXNzIHJlcXVpcmVkIGJ5IGFwcGxpY2FibGUgbGF3IG9yIGFncmVlZCB0byBpbiB3cml0aW5nLCBzb2Z0d2FyZQovLyBkaXN0cmlidXRlZCB1bmRlciB0aGUgTGljZW5zZSBpcyBkaXN0cmlidXRlZCBvbiBhbiAiQVMgSVMiIEJBU0lTLAovLyBXSVRIT1VUIFdBUlJBTlRJRVMgT1IgQ09ORElUSU9OUyBPRiBBTlkgS0lORCwgZWl0aGVyIGV4cHJlc3Mgb3IgaW1wbGllZC4KLy8gU2VlIHRoZSBMaWNlbnNlIGZvciB0aGUgc3BlY2lmaWMgbGFuZ3VhZ2UgZ292ZXJuaW5nIHBlcm1pc3Npb25zIGFuZAovLyBsaW1pdGF0aW9ucyB1bmRlciB0aGUgTGljZW5zZS4KCi8qKgogKiBAZmlsZW92ZXJ2aWV3IEhlbHBlcnMgZm9yIGdvb2dsZS5jb2xhYiBQeXRob24gbW9kdWxlLgogKi8KKGZ1bmN0aW9uKHNjb3BlKSB7CmZ1bmN0aW9uIHNwYW4odGV4dCwgc3R5bGVBdHRyaWJ1dGVzID0ge30pIHsKICBjb25zdCBlbGVtZW50ID0gZG9jdW1lbnQuY3JlYXRlRWxlbWVudCgnc3BhbicpOwogIGVsZW1lbnQudGV4dENvbnRlbnQgPSB0ZXh0OwogIGZvciAoY29uc3Qga2V5IG9mIE9iamVjdC5rZXlzKHN0eWxlQXR0cmlidXRlcykpIHsKICAgIGVsZW1lbnQuc3R5bGVba2V5XSA9IHN0eWxlQXR0cmlidXRlc1trZXldOwogIH0KICByZXR1cm4gZWxlbWVudDsKfQoKLy8gTWF4IG51bWJlciBvZiBieXRlcyB3aGljaCB3aWxsIGJlIHVwbG9hZGVkIGF0IGEgdGltZS4KY29uc3QgTUFYX1BBWUxPQURfU0laRSA9IDEwMCAqIDEwMjQ7Ci8vIE1heCBhbW91bnQgb2YgdGltZSB0byBibG9jayB3YWl0aW5nIGZvciB0aGUgdXNlci4KY29uc3QgRklMRV9DSEFOR0VfVElNRU9VVF9NUyA9IDMwICogMTAwMDsKCmZ1bmN0aW9uIF91cGxvYWRGaWxlcyhpbnB1dElkLCBvdXRwdXRJZCkgewogIGNvbnN0IHN0ZXBzID0gdXBsb2FkRmlsZXNTdGVwKGlucHV0SWQsIG91dHB1dElkKTsKICBjb25zdCBvdXRwdXRFbGVtZW50ID0gZG9jdW1lbnQuZ2V0RWxlbWVudEJ5SWQob3V0cHV0SWQpOwogIC8vIENhY2hlIHN0ZXBzIG9uIHRoZSBvdXRwdXRFbGVtZW50IHRvIG1ha2UgaXQgYXZhaWxhYmxlIGZvciB0aGUgbmV4dCBjYWxsCiAgLy8gdG8gdXBsb2FkRmlsZXNDb250aW51ZSBmcm9tIFB5dGhvbi4KICBvdXRwdXRFbGVtZW50LnN0ZXBzID0gc3RlcHM7CgogIHJldHVybiBfdXBsb2FkRmlsZXNDb250aW51ZShvdXRwdXRJZCk7Cn0KCi8vIFRoaXMgaXMgcm91Z2hseSBhbiBhc3luYyBnZW5lcmF0b3IgKG5vdCBzdXBwb3J0ZWQgaW4gdGhlIGJyb3dzZXIgeWV0KSwKLy8gd2hlcmUgdGhlcmUgYXJlIG11bHRpcGxlIGFzeW5jaHJvbm91cyBzdGVwcyBhbmQgdGhlIFB5dGhvbiBzaWRlIGlzIGdvaW5nCi8vIHRvIHBvbGwgZm9yIGNvbXBsZXRpb24gb2YgZWFjaCBzdGVwLgovLyBUaGlzIHVzZXMgYSBQcm9taXNlIHRvIGJsb2NrIHRoZSBweXRob24gc2lkZSBvbiBjb21wbGV0aW9uIG9mIGVhY2ggc3RlcCwKLy8gdGhlbiBwYXNzZXMgdGhlIHJlc3VsdCBvZiB0aGUgcHJldmlvdXMgc3RlcCBhcyB0aGUgaW5wdXQgdG8gdGhlIG5leHQgc3RlcC4KZnVuY3Rpb24gX3VwbG9hZEZpbGVzQ29udGludWUob3V0cHV0SWQpIHsKICBjb25zdCBvdXRwdXRFbGVtZW50ID0gZG9jdW1lbnQuZ2V0RWxlbWVudEJ5SWQob3V0cHV0SWQpOwogIGNvbnN0IHN0ZXBzID0gb3V0cHV0RWxlbWVudC5zdGVwczsKCiAgY29uc3QgbmV4dCA9IHN0ZXBzLm5leHQob3V0cHV0RWxlbWVudC5sYXN0UHJvbWlzZVZhbHVlKTsKICByZXR1cm4gUHJvbWlzZS5yZXNvbHZlKG5leHQudmFsdWUucHJvbWlzZSkudGhlbigodmFsdWUpID0+IHsKICAgIC8vIENhY2hlIHRoZSBsYXN0IHByb21pc2UgdmFsdWUgdG8gbWFrZSBpdCBhdmFpbGFibGUgdG8gdGhlIG5leHQKICAgIC8vIHN0ZXAgb2YgdGhlIGdlbmVyYXRvci4KICAgIG91dHB1dEVsZW1lbnQubGFzdFByb21pc2VWYWx1ZSA9IHZhbHVlOwogICAgcmV0dXJuIG5leHQudmFsdWUucmVzcG9uc2U7CiAgfSk7Cn0KCi8qKgogKiBHZW5lcmF0b3IgZnVuY3Rpb24gd2hpY2ggaXMgY2FsbGVkIGJldHdlZW4gZWFjaCBhc3luYyBzdGVwIG9mIHRoZSB1cGxvYWQKICogcHJvY2Vzcy4KICogQHBhcmFtIHtzdHJpbmd9IGlucHV0SWQgRWxlbWVudCBJRCBvZiB0aGUgaW5wdXQgZmlsZSBwaWNrZXIgZWxlbWVudC4KICogQHBhcmFtIHtzdHJpbmd9IG91dHB1dElkIEVsZW1lbnQgSUQgb2YgdGhlIG91dHB1dCBkaXNwbGF5LgogKiBAcmV0dXJuIHshSXRlcmFibGU8IU9iamVjdD59IEl0ZXJhYmxlIG9mIG5leHQgc3RlcHMuCiAqLwpmdW5jdGlvbiogdXBsb2FkRmlsZXNTdGVwKGlucHV0SWQsIG91dHB1dElkKSB7CiAgY29uc3QgaW5wdXRFbGVtZW50ID0gZG9jdW1lbnQuZ2V0RWxlbWVudEJ5SWQoaW5wdXRJZCk7CiAgaW5wdXRFbGVtZW50LmRpc2FibGVkID0gZmFsc2U7CgogIGNvbnN0IG91dHB1dEVsZW1lbnQgPSBkb2N1bWVudC5nZXRFbGVtZW50QnlJZChvdXRwdXRJZCk7CiAgb3V0cHV0RWxlbWVudC5pbm5lckhUTUwgPSAnJzsKCiAgY29uc3QgcGlja2VkUHJvbWlzZSA9IG5ldyBQcm9taXNlKChyZXNvbHZlKSA9PiB7CiAgICBpbnB1dEVsZW1lbnQuYWRkRXZlbnRMaXN0ZW5lcignY2hhbmdlJywgKGUpID0+IHsKICAgICAgcmVzb2x2ZShlLnRhcmdldC5maWxlcyk7CiAgICB9KTsKICB9KTsKCiAgY29uc3QgY2FuY2VsID0gZG9jdW1lbnQuY3JlYXRlRWxlbWVudCgnYnV0dG9uJyk7CiAgaW5wdXRFbGVtZW50LnBhcmVudEVsZW1lbnQuYXBwZW5kQ2hpbGQoY2FuY2VsKTsKICBjYW5jZWwudGV4dENvbnRlbnQgPSAnQ2FuY2VsIHVwbG9hZCc7CiAgY29uc3QgY2FuY2VsUHJvbWlzZSA9IG5ldyBQcm9taXNlKChyZXNvbHZlKSA9PiB7CiAgICBjYW5jZWwub25jbGljayA9ICgpID0+IHsKICAgICAgcmVzb2x2ZShudWxsKTsKICAgIH07CiAgfSk7CgogIC8vIENhbmNlbCB1cGxvYWQgaWYgdXNlciBoYXNuJ3QgcGlja2VkIGFueXRoaW5nIGluIHRpbWVvdXQuCiAgY29uc3QgdGltZW91dFByb21pc2UgPSBuZXcgUHJvbWlzZSgocmVzb2x2ZSkgPT4gewogICAgc2V0VGltZW91dCgoKSA9PiB7CiAgICAgIHJlc29sdmUobnVsbCk7CiAgICB9LCBGSUxFX0NIQU5HRV9USU1FT1VUX01TKTsKICB9KTsKCiAgLy8gV2FpdCBmb3IgdGhlIHVzZXIgdG8gcGljayB0aGUgZmlsZXMuCiAgY29uc3QgZmlsZXMgPSB5aWVsZCB7CiAgICBwcm9taXNlOiBQcm9taXNlLnJhY2UoW3BpY2tlZFByb21pc2UsIHRpbWVvdXRQcm9taXNlLCBjYW5jZWxQcm9taXNlXSksCiAgICByZXNwb25zZTogewogICAgICBhY3Rpb246ICdzdGFydGluZycsCiAgICB9CiAgfTsKCiAgaWYgKCFmaWxlcykgewogICAgcmV0dXJuIHsKICAgICAgcmVzcG9uc2U6IHsKICAgICAgICBhY3Rpb246ICdjb21wbGV0ZScsCiAgICAgIH0KICAgIH07CiAgfQoKICBjYW5jZWwucmVtb3ZlKCk7CgogIC8vIERpc2FibGUgdGhlIGlucHV0IGVsZW1lbnQgc2luY2UgZnVydGhlciBwaWNrcyBhcmUgbm90IGFsbG93ZWQuCiAgaW5wdXRFbGVtZW50LmRpc2FibGVkID0gdHJ1ZTsKCiAgZm9yIChjb25zdCBmaWxlIG9mIGZpbGVzKSB7CiAgICBjb25zdCBsaSA9IGRvY3VtZW50LmNyZWF0ZUVsZW1lbnQoJ2xpJyk7CiAgICBsaS5hcHBlbmQoc3BhbihmaWxlLm5hbWUsIHtmb250V2VpZ2h0OiAnYm9sZCd9KSk7CiAgICBsaS5hcHBlbmQoc3BhbigKICAgICAgICBgKCR7ZmlsZS50eXBlIHx8ICduL2EnfSkgLSAke2ZpbGUuc2l6ZX0gYnl0ZXMsIGAgKwogICAgICAgIGBsYXN0IG1vZGlmaWVkOiAkewogICAgICAgICAgICBmaWxlLmxhc3RNb2RpZmllZERhdGUgPyBmaWxlLmxhc3RNb2RpZmllZERhdGUudG9Mb2NhbGVEYXRlU3RyaW5nKCkgOgogICAgICAgICAgICAgICAgICAgICAgICAgICAgICAgICAgICAnbi9hJ30gLSBgKSk7CiAgICBjb25zdCBwZXJjZW50ID0gc3BhbignMCUgZG9uZScpOwogICAgbGkuYXBwZW5kQ2hpbGQocGVyY2VudCk7CgogICAgb3V0cHV0RWxlbWVudC5hcHBlbmRDaGlsZChsaSk7CgogICAgY29uc3QgZmlsZURhdGFQcm9taXNlID0gbmV3IFByb21pc2UoKHJlc29sdmUpID0+IHsKICAgICAgY29uc3QgcmVhZGVyID0gbmV3IEZpbGVSZWFkZXIoKTsKICAgICAgcmVhZGVyLm9ubG9hZCA9IChlKSA9PiB7CiAgICAgICAgcmVzb2x2ZShlLnRhcmdldC5yZXN1bHQpOwogICAgICB9OwogICAgICByZWFkZXIucmVhZEFzQXJyYXlCdWZmZXIoZmlsZSk7CiAgICB9KTsKICAgIC8vIFdhaXQgZm9yIHRoZSBkYXRhIHRvIGJlIHJlYWR5LgogICAgbGV0IGZpbGVEYXRhID0geWllbGQgewogICAgICBwcm9taXNlOiBmaWxlRGF0YVByb21pc2UsCiAgICAgIHJlc3BvbnNlOiB7CiAgICAgICAgYWN0aW9uOiAnY29udGludWUnLAogICAgICB9CiAgICB9OwoKICAgIC8vIFVzZSBhIGNodW5rZWQgc2VuZGluZyB0byBhdm9pZCBtZXNzYWdlIHNpemUgbGltaXRzLiBTZWUgYi82MjExNTY2MC4KICAgIGxldCBwb3NpdGlvbiA9IDA7CiAgICB3aGlsZSAocG9zaXRpb24gPCBmaWxlRGF0YS5ieXRlTGVuZ3RoKSB7CiAgICAgIGNvbnN0IGxlbmd0aCA9IE1hdGgubWluKGZpbGVEYXRhLmJ5dGVMZW5ndGggLSBwb3NpdGlvbiwgTUFYX1BBWUxPQURfU0laRSk7CiAgICAgIGNvbnN0IGNodW5rID0gbmV3IFVpbnQ4QXJyYXkoZmlsZURhdGEsIHBvc2l0aW9uLCBsZW5ndGgpOwogICAgICBwb3NpdGlvbiArPSBsZW5ndGg7CgogICAgICBjb25zdCBiYXNlNjQgPSBidG9hKFN0cmluZy5mcm9tQ2hhckNvZGUuYXBwbHkobnVsbCwgY2h1bmspKTsKICAgICAgeWllbGQgewogICAgICAgIHJlc3BvbnNlOiB7CiAgICAgICAgICBhY3Rpb246ICdhcHBlbmQnLAogICAgICAgICAgZmlsZTogZmlsZS5uYW1lLAogICAgICAgICAgZGF0YTogYmFzZTY0LAogICAgICAgIH0sCiAgICAgIH07CiAgICAgIHBlcmNlbnQudGV4dENvbnRlbnQgPQogICAgICAgICAgYCR7TWF0aC5yb3VuZCgocG9zaXRpb24gLyBmaWxlRGF0YS5ieXRlTGVuZ3RoKSAqIDEwMCl9JSBkb25lYDsKICAgIH0KICB9CgogIC8vIEFsbCBkb25lLgogIHlpZWxkIHsKICAgIHJlc3BvbnNlOiB7CiAgICAgIGFjdGlvbjogJ2NvbXBsZXRlJywKICAgIH0KICB9Owp9CgpzY29wZS5nb29nbGUgPSBzY29wZS5nb29nbGUgfHwge307CnNjb3BlLmdvb2dsZS5jb2xhYiA9IHNjb3BlLmdvb2dsZS5jb2xhYiB8fCB7fTsKc2NvcGUuZ29vZ2xlLmNvbGFiLl9maWxlcyA9IHsKICBfdXBsb2FkRmlsZXMsCiAgX3VwbG9hZEZpbGVzQ29udGludWUsCn07Cn0pKHNlbGYpOwo=",
              "ok": true,
              "headers": [
                [
                  "content-type",
                  "application/javascript"
                ]
              ],
              "status": 200,
              "status_text": "OK"
            }
          },
          "base_uri": "https://localhost:8080/",
          "height": 83
        }
      },
      "source": [
        "uploaded = files.upload() # загрузка файла со стоп-словами"
      ],
      "execution_count": 0,
      "outputs": [
        {
          "output_type": "display_data",
          "data": {
            "text/html": [
              "\n",
              "     <input type=\"file\" id=\"files-6d41c065-c68f-4ffe-b75e-30a11c2c2439\" name=\"files[]\" multiple disabled />\n",
              "     <output id=\"result-6d41c065-c68f-4ffe-b75e-30a11c2c2439\">\n",
              "      Upload widget is only available when the cell has been executed in the\n",
              "      current browser session. Please rerun this cell to enable.\n",
              "      </output>\n",
              "      <script src=\"/nbextensions/google.colab/files.js\"></script> "
            ],
            "text/plain": [
              "<IPython.core.display.HTML object>"
            ]
          },
          "metadata": {
            "tags": []
          }
        },
        {
          "output_type": "stream",
          "text": [
            "Saving stop_words.txt to stop_words.txt\n"
          ],
          "name": "stdout"
        }
      ]
    },
    {
      "cell_type": "code",
      "metadata": {
        "id": "LKRG0NhqEUcs",
        "colab_type": "code",
        "outputId": "fe261691-67f0-419b-e820-6da19b1ec0e7",
        "colab": {
          "base_uri": "https://localhost:8080/",
          "height": 1000
        }
      },
      "source": [
        "f = open('stop_words.txt', 'r')\n",
        "stop_words = []\n",
        "for line in f:\n",
        "  stop_words.append(line.rstrip())\n",
        "stop_words # сформированный список стоп-слов"
      ],
      "execution_count": 0,
      "outputs": [
        {
          "output_type": "execute_result",
          "data": {
            "text/plain": [
              "['а',\n",
              " 'будем',\n",
              " 'будет',\n",
              " 'будете',\n",
              " 'будешь',\n",
              " 'буду',\n",
              " 'будут',\n",
              " 'будучи',\n",
              " 'будь',\n",
              " 'будьте',\n",
              " 'бы',\n",
              " 'был',\n",
              " 'была',\n",
              " 'были',\n",
              " 'было',\n",
              " 'быть',\n",
              " 'в',\n",
              " 'вам',\n",
              " 'вами',\n",
              " 'вас',\n",
              " 'весь',\n",
              " 'во',\n",
              " 'вот',\n",
              " 'все',\n",
              " 'всё',\n",
              " 'всего',\n",
              " 'всей',\n",
              " 'всем',\n",
              " 'всём',\n",
              " 'всеми',\n",
              " 'всему',\n",
              " 'всех',\n",
              " 'всею',\n",
              " 'всея',\n",
              " 'всю',\n",
              " 'вся',\n",
              " 'вы',\n",
              " 'да',\n",
              " 'для',\n",
              " 'до',\n",
              " 'его',\n",
              " 'едим',\n",
              " 'едят',\n",
              " 'ее',\n",
              " 'её',\n",
              " 'ей',\n",
              " 'ел',\n",
              " 'ела',\n",
              " 'ем',\n",
              " 'ему',\n",
              " 'емъ',\n",
              " 'если',\n",
              " 'ест',\n",
              " 'есть',\n",
              " 'ешь',\n",
              " 'еще',\n",
              " 'ещё',\n",
              " 'ею',\n",
              " 'же',\n",
              " 'за',\n",
              " 'и',\n",
              " 'из',\n",
              " 'или',\n",
              " 'им',\n",
              " 'ими',\n",
              " 'имъ',\n",
              " 'их',\n",
              " 'к',\n",
              " 'как',\n",
              " 'кем',\n",
              " 'ко',\n",
              " 'когда',\n",
              " 'кого',\n",
              " 'ком',\n",
              " 'кому',\n",
              " 'комья',\n",
              " 'которая',\n",
              " 'которого',\n",
              " 'которое',\n",
              " 'которой',\n",
              " 'котором',\n",
              " 'которому',\n",
              " 'которою',\n",
              " 'которую',\n",
              " 'которые',\n",
              " 'который',\n",
              " 'которым',\n",
              " 'которыми',\n",
              " 'которых',\n",
              " 'кто',\n",
              " 'меня',\n",
              " 'мне',\n",
              " 'мной',\n",
              " 'мною',\n",
              " 'мог',\n",
              " 'моги',\n",
              " 'могите',\n",
              " 'могла',\n",
              " 'могли',\n",
              " 'могло',\n",
              " 'могу',\n",
              " 'могут',\n",
              " 'мое',\n",
              " 'моё',\n",
              " 'моего',\n",
              " 'моей',\n",
              " 'моем',\n",
              " 'моём',\n",
              " 'моему',\n",
              " 'моею',\n",
              " 'можем',\n",
              " 'может',\n",
              " 'можете',\n",
              " 'можешь',\n",
              " 'мои',\n",
              " 'мой',\n",
              " 'моим',\n",
              " 'моими',\n",
              " 'моих',\n",
              " 'мочь',\n",
              " 'мою',\n",
              " 'моя',\n",
              " 'мы',\n",
              " 'на',\n",
              " 'нам',\n",
              " 'нами',\n",
              " 'нас',\n",
              " 'наса',\n",
              " 'наш',\n",
              " 'наша',\n",
              " 'наше',\n",
              " 'нашего',\n",
              " 'нашей',\n",
              " 'нашем',\n",
              " 'нашему',\n",
              " 'нашею',\n",
              " 'наши',\n",
              " 'нашим',\n",
              " 'нашими',\n",
              " 'наших',\n",
              " 'нашу',\n",
              " 'не',\n",
              " 'него',\n",
              " 'нее',\n",
              " 'неё',\n",
              " 'ней',\n",
              " 'нем',\n",
              " 'нём',\n",
              " 'нему',\n",
              " 'нет',\n",
              " 'нею',\n",
              " 'ним',\n",
              " 'ними',\n",
              " 'них',\n",
              " 'но',\n",
              " 'о',\n",
              " 'об',\n",
              " 'один',\n",
              " 'одна',\n",
              " 'одни',\n",
              " 'одним',\n",
              " 'одними',\n",
              " 'одних',\n",
              " 'одно',\n",
              " 'одного',\n",
              " 'одной',\n",
              " 'одном',\n",
              " 'одному',\n",
              " 'одною',\n",
              " 'одну',\n",
              " 'он',\n",
              " 'она',\n",
              " 'оне',\n",
              " 'они',\n",
              " 'оно',\n",
              " 'от',\n",
              " 'по',\n",
              " 'при',\n",
              " 'с',\n",
              " 'сам',\n",
              " 'сама',\n",
              " 'сами',\n",
              " 'самим',\n",
              " 'самими',\n",
              " 'самих',\n",
              " 'само',\n",
              " 'самого',\n",
              " 'самом',\n",
              " 'самому',\n",
              " 'саму',\n",
              " 'свое',\n",
              " 'своё',\n",
              " 'своего',\n",
              " 'своей',\n",
              " 'своем',\n",
              " 'своём',\n",
              " 'своему',\n",
              " 'своею',\n",
              " 'свои',\n",
              " 'свой',\n",
              " 'своим',\n",
              " 'своими',\n",
              " 'своих',\n",
              " 'свою',\n",
              " 'своя',\n",
              " 'себе',\n",
              " 'себя',\n",
              " 'собой',\n",
              " 'собою',\n",
              " 'та',\n",
              " 'так',\n",
              " 'такая',\n",
              " 'такие',\n",
              " 'таким',\n",
              " 'такими',\n",
              " 'таких',\n",
              " 'такого',\n",
              " 'такое',\n",
              " 'такой',\n",
              " 'таком',\n",
              " 'такому',\n",
              " 'такою',\n",
              " 'такую',\n",
              " 'те',\n",
              " 'тебе',\n",
              " 'тебя',\n",
              " 'тем',\n",
              " 'теми',\n",
              " 'тех',\n",
              " 'то',\n",
              " 'тобой',\n",
              " 'тобою',\n",
              " 'того',\n",
              " 'той',\n",
              " 'только',\n",
              " 'том',\n",
              " 'томах',\n",
              " 'тому',\n",
              " 'тот',\n",
              " 'тою',\n",
              " 'ту',\n",
              " 'ты',\n",
              " 'у',\n",
              " 'уже',\n",
              " 'чего',\n",
              " 'чем',\n",
              " 'чём',\n",
              " 'чему',\n",
              " 'что',\n",
              " 'чтобы',\n",
              " 'эта',\n",
              " 'эти',\n",
              " 'этим',\n",
              " 'этими',\n",
              " 'этих',\n",
              " 'это',\n",
              " 'этого',\n",
              " 'этой',\n",
              " 'этом',\n",
              " 'этому',\n",
              " 'этот',\n",
              " 'этою',\n",
              " 'эту']"
            ]
          },
          "metadata": {
            "tags": []
          },
          "execution_count": 26
        }
      ]
    },
    {
      "cell_type": "code",
      "metadata": {
        "id": "tNiOf8WDEaZ7",
        "colab_type": "code",
        "colab": {}
      },
      "source": [
        "for j in range(len(X_train_t)):\n",
        "  temp = X_train_t[j].split()\n",
        "  for k in temp:\n",
        "    if k in stop_words or k == 'я':\n",
        "      temp.remove(k)\n",
        "  X_train_t[j] = ' '.join(temp) # очистка тестового датасета от стоп-слов"
      ],
      "execution_count": 0,
      "outputs": []
    },
    {
      "cell_type": "code",
      "metadata": {
        "id": "u6FnvA-sCxIw",
        "colab_type": "code",
        "colab": {}
      },
      "source": [
        "from sklearn.model_selection import train_test_split\n",
        "\n",
        "X_train, X_test, y_train, y_test = train_test_split(X_train_t, Y_train_t, test_size=0.33, random_state=42)"
      ],
      "execution_count": 0,
      "outputs": []
    },
    {
      "cell_type": "code",
      "metadata": {
        "id": "AE7KXlfKFlLe",
        "colab_type": "code",
        "colab": {}
      },
      "source": [
        "from sklearn.pipeline import Pipeline\n",
        "from sklearn.feature_extraction.text import HashingVectorizer\n",
        "from sklearn.feature_extraction.text import TfidfTransformer\n",
        "\n",
        "text_clf = Pipeline([('vect', CountVectorizer()),\n",
        "                      ('tfidf', TfidfTransformer())])"
      ],
      "execution_count": 0,
      "outputs": []
    },
    {
      "cell_type": "code",
      "metadata": {
        "id": "crmwHFrjFsCk",
        "colab_type": "code",
        "outputId": "24b3a2f3-55da-42fd-eeb9-5e67b1769c7f",
        "colab": {
          "base_uri": "https://localhost:8080/",
          "height": 278
        }
      },
      "source": [
        "text_clf.fit(X_train_t)"
      ],
      "execution_count": 0,
      "outputs": [
        {
          "output_type": "execute_result",
          "data": {
            "text/plain": [
              "Pipeline(memory=None,\n",
              "         steps=[('vect',\n",
              "                 CountVectorizer(analyzer='word', binary=False,\n",
              "                                 decode_error='strict',\n",
              "                                 dtype=<class 'numpy.int64'>, encoding='utf-8',\n",
              "                                 input='content', lowercase=True, max_df=1.0,\n",
              "                                 max_features=None, min_df=1,\n",
              "                                 ngram_range=(1, 1), preprocessor=None,\n",
              "                                 stop_words=None, strip_accents=None,\n",
              "                                 token_pattern='(?u)\\\\b\\\\w\\\\w+\\\\b',\n",
              "                                 tokenizer=None, vocabulary=None)),\n",
              "                ('tfidf',\n",
              "                 TfidfTransformer(norm='l2', smooth_idf=True,\n",
              "                                  sublinear_tf=False, use_idf=True))],\n",
              "         verbose=False)"
            ]
          },
          "metadata": {
            "tags": []
          },
          "execution_count": 71
        }
      ]
    },
    {
      "cell_type": "code",
      "metadata": {
        "id": "ODGS-zdPGj8y",
        "colab_type": "code",
        "colab": {}
      },
      "source": [
        "x_train_tfidf = text_clf.transform(X_train)\n",
        "x_test_tfidf = text_clf.transform(X_test)"
      ],
      "execution_count": 0,
      "outputs": []
    },
    {
      "cell_type": "code",
      "metadata": {
        "id": "WHkSM7xpHckp",
        "colab_type": "code",
        "colab": {}
      },
      "source": [
        "from sklearn.svm import LinearSVC\n",
        "\n",
        "tfidf_model = LinearSVC(max_iter=100).fit(x_train_tf_idf, y_train) # обучение модели на тренировочной выборке"
      ],
      "execution_count": 0,
      "outputs": []
    },
    {
      "cell_type": "code",
      "metadata": {
        "id": "U0nxH7a9IIoB",
        "colab_type": "code",
        "outputId": "60bb8cf3-0084-46db-a37e-2aa0428c6b6d",
        "colab": {
          "base_uri": "https://localhost:8080/",
          "height": 34
        }
      },
      "source": [
        "from sklearn.metrics import accuracy_score\n",
        "accuracy_score(tfidf_model.predict(x_test_tfidf), y_test)"
      ],
      "execution_count": 0,
      "outputs": [
        {
          "output_type": "execute_result",
          "data": {
            "text/plain": [
              "0.9090095145122434"
            ]
          },
          "metadata": {
            "tags": []
          },
          "execution_count": 41
        }
      ]
    },
    {
      "cell_type": "code",
      "metadata": {
        "id": "vRumHkRRK968",
        "colab_type": "code",
        "colab": {}
      },
      "source": [
        ""
      ],
      "execution_count": 0,
      "outputs": []
    },
    {
      "cell_type": "code",
      "metadata": {
        "id": "40GleC_fExVb",
        "colab_type": "code",
        "colab": {}
      },
      "source": [
        ""
      ],
      "execution_count": 0,
      "outputs": []
    },
    {
      "cell_type": "code",
      "metadata": {
        "id": "scxJw18SkUgB",
        "colab_type": "code",
        "colab": {}
      },
      "source": [
        "Test['title&description'] = Test['title'].str[:] + ' ' + Test['description'].str[:]"
      ],
      "execution_count": 0,
      "outputs": []
    },
    {
      "cell_type": "code",
      "metadata": {
        "id": "M-jEgCXurqaZ",
        "colab_type": "code",
        "colab": {}
      },
      "source": [
        "Answer = pd.DataFrame(columns=['Id', 'Category'])\n",
        "Answer['Id'] = Test['itemid']"
      ],
      "execution_count": 0,
      "outputs": []
    },
    {
      "cell_type": "code",
      "metadata": {
        "id": "80ZgbyuwMVdS",
        "colab_type": "code",
        "colab": {}
      },
      "source": [
        "test = Test['title&description'].to_numpy()"
      ],
      "execution_count": 0,
      "outputs": []
    },
    {
      "cell_type": "code",
      "metadata": {
        "id": "c-wr2IuHL-OS",
        "colab_type": "code",
        "outputId": "9d2ee369-be4c-40db-9fe5-5f68cd09f9f3",
        "colab": {
          "base_uri": "https://localhost:8080/",
          "height": 228
        }
      },
      "source": [
        "for i in range(len(test)):\n",
        "    test[i] = preprocess(test[i])\n",
        "test[:10] # аналогично тренировочному датасету, на тестовом функция запускается 5 раз с разным return"
      ],
      "execution_count": 0,
      "outputs": [
        {
          "output_type": "execute_result",
          "data": {
            "text/plain": [
              "array(['мастерка мастерка фирмы форвард белого цвета в идеальном состоянии',\n",
              "       'зимние сапоги продаю зимние сапоги в хорошем состоянии все в стразах внутри хороший мех в них очень тепло размер',\n",
              "       'видеонаблюдение камер в комплект atis amd входит купольная внутренняя видеокамера разрешение угол обзора градусов ночная подсветка до метров шт гибридный видеорегистратор на каналов шт блок питания шт разъём bnc под винт шт разъём bnc с клеммной колодкой шт штекер питания шт гнездо питания шт дополнительные опции жесткий диск тб wd purple рублей установка и настройка в подарок кабель комбинированный квк в п руб метр установка комплекта видеонаблюдения рублей стоимость комплектов видеонаблюдения камер рублей камер рублей камер рублей камер рублей камеры рублей камеры рублей камеры рублей при покупке комплекта у нас в магазине установка жесткого диска настройка видеорегистратора настройка удаленного доступа в телефоне планшете в подарок но это ещё не всё оставьте отзыв о нашем магазине и получите скидку на оборудование при покупке за наличный расчёт цена в объявлении указана без скидки не забудьте напомнить об этом продавцу сохраните это объявление в избранные чтобы не потерять его это действительно выгодное предложение гарантия на оборудование месяцев отправляем настроенные комплекты в регионы россии наличный и безналичный расчет без ндс звоните',\n",
              "       'запчасти для gle запчасти gle',\n",
              "       'бластер nerf состояние продаю потому что не нужен дисков патронов к нему кроме мцк лихоборы устраивает мцк коптево мцк балтийская и метро петровско разумовская',\n",
              "       'плазменный телевизор samsung fhd состояние хорошее без ремонтов причина продажи нужна диагональ больше',\n",
              "       'мат плата с наши адреса малышева торговый центр народный выход этаж место сразу за магазином сантехники куратова офисное здание возле тц рублик этаж направо с кулером также в наличии и под заказ другие комплектующие для пк у нас всегда можно торговаться мы можем сделать хорошую скидку за вашу старую ненужную или сломанную электронику у нас всегда есть возможность вернуть деньги или поменять товар если он вам не подошел от х штук и более всегда дешевле информация скупка б у ноутбуков в любом состоянии электроники оргтехники меняем на вашу старую и неисправную технику интернет магазин куписто tpeбyetcя npoдabeц meнeджep mactep no pemoнтy элektpoниkи скупка ремонт обмен и помощь в продаже вашей техники широкий выбор новой и электроники компьютерных аксессуаров комплектующих компьютеров и ноутбуков с гарантией звоните пишите viber whatsapp telegram отправляем транспортными компаниями по россии пэк деловые линии кит и др',\n",
              "       'кроссовки adidas оригинал дышащие мягкие и очень удобные длина стельки см комфортная и рекомендуемая производителем полная длина стельки см отличные вариант для сменки и занятий физкультурой всеволожск м балтийская',\n",
              "       'дверь передняя левая на audi дверь передняя левая на audi ауди оригинальный номер состояние запчасти б у оригинал внутренний номер дополнительная информация помято дыра с внутренней стороны на авито не все объявления см сайт детали битавто есть скидки до см сайт детали битавто каталог кнопка уценка ранних поступлений доставка по санкт петербургу и ло отправляем запчасти в регионы рф транспортными компаниями оплата наличными банковскими картами по квитанции по счету для юр лиц приглашаем к сотрудничеству автосервисы авторазборки и магазины автозапчастей по всей россии ищите на авито и в интернете запчасти указывая в запросе битавто например дверь передняя левая audi битавто',\n",
              "       'seo продвижение сайта в топ в сосновом бору продвижение сайтов в топ в сосновом бору от руб мес здравствуйте меня зовут василий мой опыт продвижения сайтов уже более и лет в рейтинге seo специалистов россии по мнению уважаемого ресурса freelance почему вам стоит заказать продвижение сайта у меня внимательно изучаю все сильные и слабые стороны вашего сайта не растягиваю работы по оптимизации как это принято у всех первичную оптимизацию сайта я провожу в течении первых х недель благодаря чему результаты продвижения вы увидите спустя месяц работы сайты ваших конкурентов очень важно знать их преимущества и недостатки перед вашим сайтом собираю полное семантическое ядро действительно поднимаю сайты на е места я ип и могу принимать оплату на расчетный счет продвижение сайта белыми методами составление и внедрение заголовков окна браузера title составление и внедрение мета тегов description и keywords микроразметка shema org opengraph и microdata seo верстка валидность кода ускорение загрузки страниц уникальные тексты без закупки ссылочной массы без накрутки поведенческих факторов что вы получите позиции сайта по самым популярным запросам в топ самый привлекательный и удобный сайт среди конкурентов увеличение обращений а следовательно и заказов увеличение дохода и хорошего настроения звоните или пишите на почту на связи'],\n",
              "      dtype=object)"
            ]
          },
          "metadata": {
            "tags": []
          },
          "execution_count": 56
        }
      ]
    },
    {
      "cell_type": "code",
      "metadata": {
        "id": "Ekh7_d84MibJ",
        "colab_type": "code",
        "colab": {}
      },
      "source": [
        "for j in range(len(test)):\n",
        "  temp = test[j].split()\n",
        "  for k in temp:\n",
        "    if k in stop_words or k == 'я':\n",
        "      temp.remove(k)\n",
        "  test[j] = ' '.join(temp) # удаление стоп-слов из тестового датасета"
      ],
      "execution_count": 0,
      "outputs": []
    },
    {
      "cell_type": "code",
      "metadata": {
        "id": "oWq0Z361GSeo",
        "colab_type": "code",
        "colab": {}
      },
      "source": [
        "X_train_tf_idf = text_clf.transform(X_train_t)\n",
        "X_test_tf_idf = text_clf.transform(test)  # преобразование массива объектов в массив векторов"
      ],
      "execution_count": 0,
      "outputs": []
    },
    {
      "cell_type": "code",
      "metadata": {
        "id": "zgxw7_LsGw4p",
        "colab_type": "code",
        "colab": {}
      },
      "source": [
        "from sklearn.svm import LinearSVC\n",
        "\n",
        "tfidf_model = LinearSVC(max_iter=100).fit(X_train_tf_idf, Y_train_t) # обучение модели на тренировочной выборке"
      ],
      "execution_count": 0,
      "outputs": []
    },
    {
      "cell_type": "code",
      "metadata": {
        "id": "c71KhSFbrs78",
        "colab_type": "code",
        "colab": {}
      },
      "source": [
        "Answer['Category'] = tfidf_model.predict(test)"
      ],
      "execution_count": 0,
      "outputs": []
    },
    {
      "cell_type": "code",
      "metadata": {
        "id": "uqizdGNkrwGx",
        "colab_type": "code",
        "colab": {}
      },
      "source": [
        "Answer.to_csv('my_submission.csv', index=None)"
      ],
      "execution_count": 0,
      "outputs": []
    },
    {
      "cell_type": "code",
      "metadata": {
        "id": "l8a93R2xRp6S",
        "colab_type": "code",
        "colab": {}
      },
      "source": [
        ""
      ],
      "execution_count": 0,
      "outputs": []
    },
    {
      "cell_type": "code",
      "metadata": {
        "id": "IJPsg_vgRgjW",
        "colab_type": "code",
        "colab": {}
      },
      "source": [
        ""
      ],
      "execution_count": 0,
      "outputs": []
    }
  ]
}